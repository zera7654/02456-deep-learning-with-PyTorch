{
  "nbformat": 4,
  "nbformat_minor": 0,
  "metadata": {
    "colab": {
      "provenance": [],
      "gpuType": "A100",
      "authorship_tag": "ABX9TyM0nj2FGFfiqNI+vUVfzkpm",
      "include_colab_link": true
    },
    "kernelspec": {
      "name": "python3",
      "display_name": "Python 3"
    },
    "language_info": {
      "name": "python"
    },
    "accelerator": "GPU"
  },
  "cells": [
    {
      "cell_type": "markdown",
      "metadata": {
        "id": "view-in-github",
        "colab_type": "text"
      },
      "source": [
        "<a href=\"https://colab.research.google.com/github/zera7654/02456-deep-learning-with-PyTorch/blob/master/final_pj2_deep_learning.ipynb\" target=\"_parent\"><img src=\"https://colab.research.google.com/assets/colab-badge.svg\" alt=\"Open In Colab\"/></a>"
      ]
    },
    {
      "cell_type": "markdown",
      "source": [
        "#Load Packages\n",
        "from 4.2 CIFAR-10"
      ],
      "metadata": {
        "id": "M2eDTgu7375i"
      }
    },
    {
      "cell_type": "code",
      "source": [
        "!pip install tensorflow\n",
        "!pip install tensorflow-datasets\n",
        "!pip install tqdm"
      ],
      "metadata": {
        "colab": {
          "base_uri": "https://localhost:8080/"
        },
        "id": "Z1moBMrNV3eS",
        "outputId": "461aa17f-66e5-4c03-ee1a-62a04d56aa07"
      },
      "execution_count": 1,
      "outputs": [
        {
          "output_type": "stream",
          "name": "stdout",
          "text": [
            "Requirement already satisfied: tensorflow in /usr/local/lib/python3.10/dist-packages (2.17.1)\n",
            "Requirement already satisfied: absl-py>=1.0.0 in /usr/local/lib/python3.10/dist-packages (from tensorflow) (1.4.0)\n",
            "Requirement already satisfied: astunparse>=1.6.0 in /usr/local/lib/python3.10/dist-packages (from tensorflow) (1.6.3)\n",
            "Requirement already satisfied: flatbuffers>=24.3.25 in /usr/local/lib/python3.10/dist-packages (from tensorflow) (24.3.25)\n",
            "Requirement already satisfied: gast!=0.5.0,!=0.5.1,!=0.5.2,>=0.2.1 in /usr/local/lib/python3.10/dist-packages (from tensorflow) (0.6.0)\n",
            "Requirement already satisfied: google-pasta>=0.1.1 in /usr/local/lib/python3.10/dist-packages (from tensorflow) (0.2.0)\n",
            "Requirement already satisfied: h5py>=3.10.0 in /usr/local/lib/python3.10/dist-packages (from tensorflow) (3.12.1)\n",
            "Requirement already satisfied: libclang>=13.0.0 in /usr/local/lib/python3.10/dist-packages (from tensorflow) (18.1.1)\n",
            "Requirement already satisfied: ml-dtypes<0.5.0,>=0.3.1 in /usr/local/lib/python3.10/dist-packages (from tensorflow) (0.4.1)\n",
            "Requirement already satisfied: opt-einsum>=2.3.2 in /usr/local/lib/python3.10/dist-packages (from tensorflow) (3.4.0)\n",
            "Requirement already satisfied: packaging in /usr/local/lib/python3.10/dist-packages (from tensorflow) (24.2)\n",
            "Requirement already satisfied: protobuf!=4.21.0,!=4.21.1,!=4.21.2,!=4.21.3,!=4.21.4,!=4.21.5,<5.0.0dev,>=3.20.3 in /usr/local/lib/python3.10/dist-packages (from tensorflow) (4.25.5)\n",
            "Requirement already satisfied: requests<3,>=2.21.0 in /usr/local/lib/python3.10/dist-packages (from tensorflow) (2.32.3)\n",
            "Requirement already satisfied: setuptools in /usr/local/lib/python3.10/dist-packages (from tensorflow) (75.1.0)\n",
            "Requirement already satisfied: six>=1.12.0 in /usr/local/lib/python3.10/dist-packages (from tensorflow) (1.17.0)\n",
            "Requirement already satisfied: termcolor>=1.1.0 in /usr/local/lib/python3.10/dist-packages (from tensorflow) (2.5.0)\n",
            "Requirement already satisfied: typing-extensions>=3.6.6 in /usr/local/lib/python3.10/dist-packages (from tensorflow) (4.12.2)\n",
            "Requirement already satisfied: wrapt>=1.11.0 in /usr/local/lib/python3.10/dist-packages (from tensorflow) (1.17.0)\n",
            "Requirement already satisfied: grpcio<2.0,>=1.24.3 in /usr/local/lib/python3.10/dist-packages (from tensorflow) (1.68.1)\n",
            "Requirement already satisfied: tensorboard<2.18,>=2.17 in /usr/local/lib/python3.10/dist-packages (from tensorflow) (2.17.1)\n",
            "Requirement already satisfied: keras>=3.2.0 in /usr/local/lib/python3.10/dist-packages (from tensorflow) (3.5.0)\n",
            "Requirement already satisfied: tensorflow-io-gcs-filesystem>=0.23.1 in /usr/local/lib/python3.10/dist-packages (from tensorflow) (0.37.1)\n",
            "Requirement already satisfied: numpy<2.0.0,>=1.23.5 in /usr/local/lib/python3.10/dist-packages (from tensorflow) (1.26.4)\n",
            "Requirement already satisfied: wheel<1.0,>=0.23.0 in /usr/local/lib/python3.10/dist-packages (from astunparse>=1.6.0->tensorflow) (0.45.1)\n",
            "Requirement already satisfied: rich in /usr/local/lib/python3.10/dist-packages (from keras>=3.2.0->tensorflow) (13.9.4)\n",
            "Requirement already satisfied: namex in /usr/local/lib/python3.10/dist-packages (from keras>=3.2.0->tensorflow) (0.0.8)\n",
            "Requirement already satisfied: optree in /usr/local/lib/python3.10/dist-packages (from keras>=3.2.0->tensorflow) (0.13.1)\n",
            "Requirement already satisfied: charset-normalizer<4,>=2 in /usr/local/lib/python3.10/dist-packages (from requests<3,>=2.21.0->tensorflow) (3.4.0)\n",
            "Requirement already satisfied: idna<4,>=2.5 in /usr/local/lib/python3.10/dist-packages (from requests<3,>=2.21.0->tensorflow) (3.10)\n",
            "Requirement already satisfied: urllib3<3,>=1.21.1 in /usr/local/lib/python3.10/dist-packages (from requests<3,>=2.21.0->tensorflow) (2.2.3)\n",
            "Requirement already satisfied: certifi>=2017.4.17 in /usr/local/lib/python3.10/dist-packages (from requests<3,>=2.21.0->tensorflow) (2024.12.14)\n",
            "Requirement already satisfied: markdown>=2.6.8 in /usr/local/lib/python3.10/dist-packages (from tensorboard<2.18,>=2.17->tensorflow) (3.7)\n",
            "Requirement already satisfied: tensorboard-data-server<0.8.0,>=0.7.0 in /usr/local/lib/python3.10/dist-packages (from tensorboard<2.18,>=2.17->tensorflow) (0.7.2)\n",
            "Requirement already satisfied: werkzeug>=1.0.1 in /usr/local/lib/python3.10/dist-packages (from tensorboard<2.18,>=2.17->tensorflow) (3.1.3)\n",
            "Requirement already satisfied: MarkupSafe>=2.1.1 in /usr/local/lib/python3.10/dist-packages (from werkzeug>=1.0.1->tensorboard<2.18,>=2.17->tensorflow) (3.0.2)\n",
            "Requirement already satisfied: markdown-it-py>=2.2.0 in /usr/local/lib/python3.10/dist-packages (from rich->keras>=3.2.0->tensorflow) (3.0.0)\n",
            "Requirement already satisfied: pygments<3.0.0,>=2.13.0 in /usr/local/lib/python3.10/dist-packages (from rich->keras>=3.2.0->tensorflow) (2.18.0)\n",
            "Requirement already satisfied: mdurl~=0.1 in /usr/local/lib/python3.10/dist-packages (from markdown-it-py>=2.2.0->rich->keras>=3.2.0->tensorflow) (0.1.2)\n",
            "Requirement already satisfied: tensorflow-datasets in /usr/local/lib/python3.10/dist-packages (4.9.7)\n",
            "Requirement already satisfied: absl-py in /usr/local/lib/python3.10/dist-packages (from tensorflow-datasets) (1.4.0)\n",
            "Requirement already satisfied: click in /usr/local/lib/python3.10/dist-packages (from tensorflow-datasets) (8.1.7)\n",
            "Requirement already satisfied: dm-tree in /usr/local/lib/python3.10/dist-packages (from tensorflow-datasets) (0.1.8)\n",
            "Requirement already satisfied: immutabledict in /usr/local/lib/python3.10/dist-packages (from tensorflow-datasets) (4.2.1)\n",
            "Requirement already satisfied: numpy in /usr/local/lib/python3.10/dist-packages (from tensorflow-datasets) (1.26.4)\n",
            "Requirement already satisfied: promise in /usr/local/lib/python3.10/dist-packages (from tensorflow-datasets) (2.3)\n",
            "Requirement already satisfied: protobuf>=3.20 in /usr/local/lib/python3.10/dist-packages (from tensorflow-datasets) (4.25.5)\n",
            "Requirement already satisfied: psutil in /usr/local/lib/python3.10/dist-packages (from tensorflow-datasets) (5.9.5)\n",
            "Requirement already satisfied: pyarrow in /usr/local/lib/python3.10/dist-packages (from tensorflow-datasets) (17.0.0)\n",
            "Requirement already satisfied: requests>=2.19.0 in /usr/local/lib/python3.10/dist-packages (from tensorflow-datasets) (2.32.3)\n",
            "Requirement already satisfied: simple-parsing in /usr/local/lib/python3.10/dist-packages (from tensorflow-datasets) (0.1.6)\n",
            "Requirement already satisfied: tensorflow-metadata in /usr/local/lib/python3.10/dist-packages (from tensorflow-datasets) (1.13.1)\n",
            "Requirement already satisfied: termcolor in /usr/local/lib/python3.10/dist-packages (from tensorflow-datasets) (2.5.0)\n",
            "Requirement already satisfied: toml in /usr/local/lib/python3.10/dist-packages (from tensorflow-datasets) (0.10.2)\n",
            "Requirement already satisfied: tqdm in /usr/local/lib/python3.10/dist-packages (from tensorflow-datasets) (4.67.1)\n",
            "Requirement already satisfied: wrapt in /usr/local/lib/python3.10/dist-packages (from tensorflow-datasets) (1.17.0)\n",
            "Requirement already satisfied: array-record>=0.5.0 in /usr/local/lib/python3.10/dist-packages (from tensorflow-datasets) (0.5.1)\n",
            "Requirement already satisfied: etils>=1.6.0 in /usr/local/lib/python3.10/dist-packages (from etils[edc,enp,epath,epy,etree]>=1.6.0; python_version < \"3.11\"->tensorflow-datasets) (1.11.0)\n",
            "Requirement already satisfied: fsspec in /usr/local/lib/python3.10/dist-packages (from etils[edc,enp,epath,epy,etree]>=1.6.0; python_version < \"3.11\"->tensorflow-datasets) (2024.10.0)\n",
            "Requirement already satisfied: importlib_resources in /usr/local/lib/python3.10/dist-packages (from etils[edc,enp,epath,epy,etree]>=1.6.0; python_version < \"3.11\"->tensorflow-datasets) (6.4.5)\n",
            "Requirement already satisfied: typing_extensions in /usr/local/lib/python3.10/dist-packages (from etils[edc,enp,epath,epy,etree]>=1.6.0; python_version < \"3.11\"->tensorflow-datasets) (4.12.2)\n",
            "Requirement already satisfied: zipp in /usr/local/lib/python3.10/dist-packages (from etils[edc,enp,epath,epy,etree]>=1.6.0; python_version < \"3.11\"->tensorflow-datasets) (3.21.0)\n",
            "Requirement already satisfied: charset-normalizer<4,>=2 in /usr/local/lib/python3.10/dist-packages (from requests>=2.19.0->tensorflow-datasets) (3.4.0)\n",
            "Requirement already satisfied: idna<4,>=2.5 in /usr/local/lib/python3.10/dist-packages (from requests>=2.19.0->tensorflow-datasets) (3.10)\n",
            "Requirement already satisfied: urllib3<3,>=1.21.1 in /usr/local/lib/python3.10/dist-packages (from requests>=2.19.0->tensorflow-datasets) (2.2.3)\n",
            "Requirement already satisfied: certifi>=2017.4.17 in /usr/local/lib/python3.10/dist-packages (from requests>=2.19.0->tensorflow-datasets) (2024.12.14)\n",
            "Requirement already satisfied: six in /usr/local/lib/python3.10/dist-packages (from promise->tensorflow-datasets) (1.17.0)\n",
            "Requirement already satisfied: docstring-parser<1.0,>=0.15 in /usr/local/lib/python3.10/dist-packages (from simple-parsing->tensorflow-datasets) (0.16)\n",
            "Requirement already satisfied: googleapis-common-protos<2,>=1.52.0 in /usr/local/lib/python3.10/dist-packages (from tensorflow-metadata->tensorflow-datasets) (1.66.0)\n",
            "Requirement already satisfied: tqdm in /usr/local/lib/python3.10/dist-packages (4.67.1)\n"
          ]
        }
      ]
    },
    {
      "cell_type": "code",
      "source": [
        "!pip install scipy"
      ],
      "metadata": {
        "colab": {
          "base_uri": "https://localhost:8080/"
        },
        "id": "y0JFVobGBDX3",
        "outputId": "e7530172-648c-4824-de3e-e0cb0dbe0247"
      },
      "execution_count": 2,
      "outputs": [
        {
          "output_type": "stream",
          "name": "stdout",
          "text": [
            "Requirement already satisfied: scipy in /usr/local/lib/python3.10/dist-packages (1.13.1)\n",
            "Requirement already satisfied: numpy<2.3,>=1.22.4 in /usr/local/lib/python3.10/dist-packages (from scipy) (1.26.4)\n"
          ]
        }
      ]
    },
    {
      "cell_type": "code",
      "execution_count": 5,
      "metadata": {
        "id": "3PSdDxIDljai"
      },
      "outputs": [],
      "source": [
        "%matplotlib inline\n",
        "import gc\n",
        "from tqdm import tqdm\n",
        "from scipy import linalg\n",
        "import time\n",
        "import tensorflow as tf\n",
        "import tensorflow_datasets as tfds\n",
        "import numpy as np\n",
        "import matplotlib.pyplot as plt\n",
        "import seaborn as sns\n",
        "import torch\n",
        "from torch import nn\n",
        "import torch.nn.functional as F\n",
        "import torch.optim as optim\n",
        "from torch.utils.data import TensorDataset, DataLoader\n",
        "import torchvision\n",
        "import torchvision.transforms as transforms\n",
        "import argparse\n",
        "from torchvision.utils import make_grid\n",
        "from sklearn import metrics\n",
        "from typing import Optional, Tuple, Union, List\n",
        "from torchvision.utils import save_image\n",
        "import os\n",
        "import math\n",
        "sns.set_style(\"whitegrid\")\n",
        "from torchvision.models import inception_v3\n",
        "import torch.utils.data"
      ]
    },
    {
      "cell_type": "code",
      "source": [
        "def gather(consts: torch.Tensor, t: torch.Tensor):\n",
        "    \"\"\"Gather consts for $t$ and reshape to feature map shape\"\"\"\n",
        "    c = consts.gather(-1, t)\n",
        "    return c.reshape(-1, 1, 1, 1)"
      ],
      "metadata": {
        "id": "5GpfSMrZAcPs"
      },
      "execution_count": 6,
      "outputs": []
    },
    {
      "cell_type": "markdown",
      "source": [
        "# Experiments\n",
        "We set T = 1000 for all experiments so that the number of neural network evaluations needed during sampling matches previous work [53, 55]. We set the forward process variances to constants increasing linearly from β1 = 10−4 to βT = 0.02. These constants were chosen to be small relative to data scaled to [−1, 1], ensuring that reverse and forward processes have approximately the same functional form while keeping the signal-to-noise ratio at xT as small as possible (LT = DKL(q(xT |x0) ‖ N (0, I)) ≈ 10−5 bits per dimension in our experiments)."
      ],
      "metadata": {
        "id": "qxoa-Iz5f3lx"
      }
    },
    {
      "cell_type": "code",
      "source": [
        "class Swish(nn.Module):\n",
        "    def forward(self, x):\n",
        "        return x * torch.sigmoid(x)\n",
        "\n",
        "\n",
        "class TimeEmbedding(nn.Module):\n",
        "\n",
        "\n",
        "    def __init__(self, n_channels: int):\n",
        "\n",
        "        super().__init__()\n",
        "        self.n_channels = n_channels\n",
        "        # First linear layer\n",
        "        self.lin1 = nn.Linear(self.n_channels // 4, self.n_channels)\n",
        "        # Activation\n",
        "        self.act = Swish()\n",
        "        # Second linear layer\n",
        "        self.lin2 = nn.Linear(self.n_channels, self.n_channels)\n",
        "\n",
        "    def forward(self, t: torch.Tensor):\n",
        "        half_dim = self.n_channels // 8\n",
        "        emb = math.log(10_000) / (half_dim - 1)\n",
        "        emb = torch.exp(torch.arange(half_dim, device=t.device) * -emb)\n",
        "        emb = t[:, None] * emb[None, :]\n",
        "        emb = torch.cat((emb.sin(), emb.cos()), dim=1)\n",
        "\n",
        "        # Transform with the MLP\n",
        "        emb = self.act(self.lin1(emb))\n",
        "        emb = self.lin2(emb)\n",
        "\n",
        "        #\n",
        "        return emb\n",
        "\n",
        "\n",
        "class ResidualBlock(nn.Module):\n",
        "\n",
        "    def __init__(self, in_channels: int, out_channels: int, time_channels: int,\n",
        "                 n_groups: int = 32, dropout: float = 0.1):\n",
        "        super().__init__()\n",
        "        self.norm1 = nn.GroupNorm(n_groups, in_channels)\n",
        "        self.act1 = Swish()\n",
        "        self.conv1 = nn.Conv2d(in_channels, out_channels, kernel_size=(3, 3), padding=(1, 1))\n",
        "\n",
        "        self.norm2 = nn.GroupNorm(n_groups, out_channels)\n",
        "        self.act2 = Swish()\n",
        "        self.conv2 = nn.Conv2d(out_channels, out_channels, kernel_size=(3, 3), padding=(1, 1))\n",
        "\n",
        "        if in_channels != out_channels:\n",
        "            self.shortcut = nn.Conv2d(in_channels, out_channels, kernel_size=(1, 1))\n",
        "        else:\n",
        "            self.shortcut = nn.Identity()\n",
        "        self.time_emb = nn.Linear(time_channels, out_channels)\n",
        "        self.time_act = Swish()\n",
        "\n",
        "        self.dropout = nn.Dropout(dropout)\n",
        "\n",
        "    def forward(self, x: torch.Tensor, t: torch.Tensor):\n",
        "        h = self.conv1(self.act1(self.norm1(x)))\n",
        "        h += self.time_emb(self.time_act(t))[:, :, None, None]\n",
        "        h = self.conv2(self.dropout(self.act2(self.norm2(h))))\n",
        "        return h + self.shortcut(x)\n",
        "\n",
        "\n",
        "class AttentionBlock(nn.Module):\n",
        "\n",
        "    def __init__(self, n_channels: int, n_heads: int = 1, d_k: int = None, n_groups: int = 32):\n",
        "        super().__init__()\n",
        "\n",
        "        if d_k is None:\n",
        "            d_k = n_channels\n",
        "        self.norm = nn.GroupNorm(n_groups, n_channels)\n",
        "        self.projection = nn.Linear(n_channels, n_heads * d_k * 3)\n",
        "        self.output = nn.Linear(n_heads * d_k, n_channels)\n",
        "        # Scale for dot-product attention\n",
        "        self.scale = d_k ** -0.5\n",
        "        #\n",
        "        self.n_heads = n_heads\n",
        "        self.d_k = d_k\n",
        "\n",
        "    def forward(self, x: torch.Tensor, t: Optional[torch.Tensor] = None):\n",
        "        _ = t\n",
        "        batch_size, n_channels, height, width = x.shape\n",
        "\n",
        "        x = x.view(batch_size, n_channels, -1).permute(0, 2, 1)\n",
        "\n",
        "        qkv = self.projection(x).view(batch_size, -1, self.n_heads, 3 * self.d_k)\n",
        "\n",
        "        q, k, v = torch.chunk(qkv, 3, dim=-1)\n",
        "\n",
        "        attn = torch.einsum('bihd,bjhd->bijh', q, k) * self.scale\n",
        "        attn = attn.softmax(dim=2)\n",
        "        res = torch.einsum('bijh,bjhd->bihd', attn, v)\n",
        "        res = res.view(batch_size, -1, self.n_heads * self.d_k)\n",
        "        res = self.output(res)\n",
        "        res += x\n",
        "\n",
        "        res = res.permute(0, 2, 1).view(batch_size, n_channels, height, width)\n",
        "\n",
        "        #\n",
        "        return res\n",
        "\n",
        "\n",
        "class DownBlock(nn.Module):\n",
        "\n",
        "    def __init__(self, in_channels: int, out_channels: int, time_channels: int, has_attn: bool):\n",
        "        super().__init__()\n",
        "        self.res = ResidualBlock(in_channels, out_channels, time_channels)\n",
        "        if has_attn:\n",
        "            self.attn = AttentionBlock(out_channels)\n",
        "        else:\n",
        "            self.attn = nn.Identity()\n",
        "\n",
        "    def forward(self, x: torch.Tensor, t: torch.Tensor):\n",
        "        x = self.res(x, t)\n",
        "        x = self.attn(x)\n",
        "        return x\n",
        "\n",
        "\n",
        "class UpBlock(nn.Module):\n",
        "\n",
        "    def __init__(self, in_channels: int, out_channels: int, time_channels: int, has_attn: bool):\n",
        "        super().__init__()\n",
        "        # The input has `in_channels + out_channels` because we concatenate the output of the same resolution\n",
        "        # from the first half of the U-Net\n",
        "        self.res = ResidualBlock(in_channels + out_channels, out_channels, time_channels)\n",
        "        if has_attn:\n",
        "            self.attn = AttentionBlock(out_channels)\n",
        "        else:\n",
        "            self.attn = nn.Identity()\n",
        "\n",
        "    def forward(self, x: torch.Tensor, t: torch.Tensor):\n",
        "        x = self.res(x, t)\n",
        "        x = self.attn(x)\n",
        "        return x\n",
        "\n",
        "\n",
        "class MiddleBlock(nn.Module):\n",
        "\n",
        "    def __init__(self, n_channels: int, time_channels: int):\n",
        "        super().__init__()\n",
        "        self.res1 = ResidualBlock(n_channels, n_channels, time_channels)\n",
        "        self.attn = AttentionBlock(n_channels)\n",
        "        self.res2 = ResidualBlock(n_channels, n_channels, time_channels)\n",
        "\n",
        "    def forward(self, x: torch.Tensor, t: torch.Tensor):\n",
        "        x = self.res1(x, t)\n",
        "        x = self.attn(x)\n",
        "        x = self.res2(x, t)\n",
        "        return x\n",
        "\n",
        "\n",
        "class Upsample(nn.Module):\n",
        "\n",
        "    def __init__(self, n_channels):\n",
        "        super().__init__()\n",
        "        self.conv = nn.ConvTranspose2d(n_channels, n_channels, (4, 4), (2, 2), (1, 1))\n",
        "\n",
        "    def forward(self, x: torch.Tensor, t: torch.Tensor):\n",
        "        # `t` is not used, but it's kept in the arguments because for the attention layer function signature\n",
        "        # to match with `ResidualBlock`.\n",
        "        _ = t\n",
        "        return self.conv(x)\n",
        "\n",
        "\n",
        "class Downsample(nn.Module):\n",
        "    def __init__(self, n_channels):\n",
        "        super().__init__()\n",
        "        self.conv = nn.Conv2d(n_channels, n_channels, (3, 3), (2, 2), (1, 1))\n",
        "\n",
        "    def forward(self, x: torch.Tensor, t: torch.Tensor):\n",
        "        # `t` is not used, but it's kept in the arguments because for the attention layer function signature\n",
        "        # to match with `ResidualBlock`.\n",
        "        _ = t\n",
        "        return self.conv(x)\n",
        "\n",
        "class UNet(nn.Module):\n",
        "    def __init__(self, image_channels: int = 3, n_channels: int = 64,\n",
        "                 ch_mults: Union[Tuple[int, ...], List[int]] = (1, 2, 2, 4),\n",
        "                 is_attn: Union[Tuple[bool, ...], List[bool]] = (False, False, True, True),\n",
        "                 n_blocks: int = 2):\n",
        "        super().__init__()\n",
        "        n_resolutions = len(ch_mults)\n",
        "        #这里我改过这一行\n",
        "        self.image_channels = image_channels\n",
        "        # Project image into feature map\n",
        "        self.image_proj = nn.Conv2d(image_channels, n_channels, kernel_size=(3, 3), padding=(1, 1))\n",
        "\n",
        "        # Time embedding layer. Time embedding has `n_channels * 4` channels\n",
        "        self.time_emb = TimeEmbedding(n_channels * 4)\n",
        "        down = []\n",
        "        # Number of channels\n",
        "        out_channels = in_channels = n_channels\n",
        "        # For each resolution\n",
        "        for i in range(n_resolutions):\n",
        "            # Number of output channels at this resolution\n",
        "            out_channels = in_channels * ch_mults[i]\n",
        "            # Add `n_blocks`\n",
        "            for _ in range(n_blocks):\n",
        "                down.append(DownBlock(in_channels, out_channels, n_channels * 4, is_attn[i]))\n",
        "                in_channels = out_channels\n",
        "            # Down sample at all resolutions except the last\n",
        "            if i < n_resolutions - 1:\n",
        "                down.append(Downsample(in_channels))\n",
        "\n",
        "        # Combine the set of modules\n",
        "        self.down = nn.ModuleList(down)\n",
        "\n",
        "        # Middle block\n",
        "        self.middle = MiddleBlock(out_channels, n_channels * 4, )\n",
        "        up = []\n",
        "        # Number of channels\n",
        "        in_channels = out_channels\n",
        "        # For each resolution\n",
        "        for i in reversed(range(n_resolutions)):\n",
        "            # `n_blocks` at the same resolution\n",
        "            out_channels = in_channels\n",
        "            for _ in range(n_blocks):\n",
        "                up.append(UpBlock(in_channels, out_channels, n_channels * 4, is_attn[i]))\n",
        "            # Final block to reduce the number of channels\n",
        "            out_channels = in_channels // ch_mults[i]\n",
        "\n",
        "            up.append(UpBlock(in_channels, out_channels, n_channels * 4, is_attn[i]))\n",
        "            in_channels = out_channels\n",
        "            # Up sample at all resolutions except last\n",
        "            if i > 0:\n",
        "                up.append(Upsample(in_channels))\n",
        "\n",
        "        # Combine the set of modules\n",
        "        self.up = nn.ModuleList(up)\n",
        "\n",
        "        # Final normalization and convolution layer\n",
        "        self.norm = nn.GroupNorm(8, n_channels)\n",
        "        self.act = Swish()\n",
        "        self.final = nn.Conv2d(in_channels, image_channels, kernel_size=(3, 3), padding=(1, 1))\n",
        "\n",
        "    def forward(self, x: torch.Tensor, t: torch.Tensor):\n",
        "\n",
        "        # Get time-step embeddings\n",
        "        t = self.time_emb(t)\n",
        "\n",
        "        # Get image projection\n",
        "        x = self.image_proj(x)\n",
        "\n",
        "        # `h` will store outputs at each resolution for skip connection\n",
        "        h = [x]\n",
        "        # First half of U-Net\n",
        "        for m in self.down:\n",
        "            x = m(x, t)\n",
        "            h.append(x)\n",
        "\n",
        "        # Middle (bottom)\n",
        "        x = self.middle(x, t)\n",
        "\n",
        "        # Second half of U-Net\n",
        "        for m in self.up:\n",
        "            if isinstance(m, Upsample):\n",
        "                x = m(x, t)\n",
        "            else:\n",
        "                # Get the skip connection from first half of U-Net and concatenate\n",
        "                s = h.pop()\n",
        "                x = torch.cat((x, s), dim=1)\n",
        "                #\n",
        "                x = m(x, t)\n",
        "\n",
        "        # Final normalization and convolution\n",
        "        return self.final(self.act(self.norm(x)))"
      ],
      "metadata": {
        "id": "8oMYJ6TzGntL"
      },
      "execution_count": 7,
      "outputs": []
    },
    {
      "cell_type": "code",
      "source": [
        "class DenoiseDiffusion(nn.Module):\n",
        "    def __init__(self, eps_model: nn.Module, n_steps: int, device: torch.device):\n",
        "        \"\"\"\n",
        "        * `eps_model` is $\\textcolor{lightgreen}{\\epsilon_\\theta}(x_t, t)$ model\n",
        "        * `n_steps` is $t$\n",
        "        * `device` is the device to place constants on\n",
        "        \"\"\"\n",
        "        super().__init__()\n",
        "        self.eps_model = eps_model\n",
        "        self.beta = torch.linspace(0.0001, 0.02, n_steps).to(device)\n",
        "\n",
        "        self.alpha = 1. - self.beta\n",
        "        self.alpha_bar = torch.cumprod(self.alpha, dim=0)\n",
        "        self.n_steps = n_steps\n",
        "\n",
        "        # sigma^2 = beta\n",
        "        self.sigma2 = self.beta\n",
        "\n",
        "    def q_xt_x0(self, x0: torch.Tensor, t: torch.Tensor) -> Tuple[torch.Tensor, torch.Tensor]:\n",
        "        mean = gather(self.alpha_bar, t) ** 0.5 * x0\n",
        "        var = 1 - gather(self.alpha_bar, t)\n",
        "        return mean, var\n",
        "\n",
        "\n",
        "    def q_sample(self, x0: torch.Tensor, t: torch.Tensor, eps: Optional[torch.Tensor] = None):\n",
        "        if eps is None:\n",
        "            eps = torch.randn_like(x0)\n",
        "        mean, var = self.q_xt_x0(x0, t)\n",
        "        return mean + (var ** 0.5) * eps\n",
        "\n",
        "    def p_sample(self, xt: torch.Tensor, t: torch.Tensor):\n",
        "\n",
        "        eps_theta = self.eps_model(xt, t)\n",
        "        # alpha_bar_t\n",
        "        alpha_bar = gather(self.alpha_bar, t)\n",
        "        # alpha_t\n",
        "        alpha = gather(self.alpha, t)\n",
        "\n",
        "        eps_coef = (1 - alpha) / (1 - alpha_bar) ** .5\n",
        "\n",
        "        mean = 1 / (alpha ** 0.5) * (xt - eps_coef * eps_theta)\n",
        "        # sigma^2\n",
        "        var = gather(self.sigma2, t)\n",
        "\n",
        "        # epsilon\n",
        "        eps = torch.randn(xt.shape, device=xt.device)\n",
        "        # Sample\n",
        "        return mean + (var ** .5) * eps\n",
        "\n",
        "    def loss(self, x0: torch.Tensor, noise: Optional[torch.Tensor] = None):\n",
        "\n",
        "        # batch size\n",
        "        batch_size = x0.shape[0]\n",
        "\n",
        "        t = torch.randint(0, self.n_steps, (batch_size,), device=x0.device, dtype=torch.long)\n",
        "        if noise is None:\n",
        "            noise = torch.randn_like(x0)\n",
        "\n",
        "\n",
        "        xt = self.q_sample(x0, t, eps=noise)\n",
        "        eps_theta = self.eps_model(xt, t)\n",
        "        return F.mse_loss(noise, eps_theta)"
      ],
      "metadata": {
        "id": "XirUv4El0Hg4"
      },
      "execution_count": 8,
      "outputs": []
    },
    {
      "cell_type": "code",
      "source": [
        "import tensorflow as tf\n",
        "\n",
        "# GPU\n",
        "if tf.test.gpu_device_name():\n",
        "    print(f\"GPU is available: {tf.test.gpu_device_name()}\")\n",
        "else:\n",
        "    print(\"No GPU found!\")"
      ],
      "metadata": {
        "colab": {
          "base_uri": "https://localhost:8080/"
        },
        "id": "UZ0rwGcU2zEs",
        "outputId": "39e317f8-08ba-4aef-c862-f30afbc1bac9"
      },
      "execution_count": 9,
      "outputs": [
        {
          "output_type": "stream",
          "name": "stdout",
          "text": [
            "GPU is available: /device:GPU:0\n"
          ]
        }
      ]
    },
    {
      "cell_type": "code",
      "source": [
        "def train_diffusion_model(diffusion: DenoiseDiffusion, dataloader: DataLoader, optimizer: optim.Optimizer, device: torch.device, epochs: int = 10):\n",
        "    diffusion.train()\n",
        "    for epoch in range(epochs):\n",
        "        epoch_loss = 0.0\n",
        "        for batch_ndx, batch in enumerate(tqdm(dataloader, desc=f\"Epoch {epoch+1}/{epochs}\")):\n",
        "            x0, _ = batch\n",
        "            x0 = x0.to(device)\n",
        "            loss = diffusion.loss(x0)\n",
        "            optimizer.zero_grad()\n",
        "            loss.backward()\n",
        "            optimizer.step()\n",
        "            epoch_loss += loss.item()\n",
        "            if batch_ndx % 100 == 0:\n",
        "                print(f'Epoch [{epoch+1}/{epochs}] Step [{batch_ndx}/{len(dataloader)}], Loss: {loss.item():.4f}')\n",
        "\n",
        "            # release storage\n",
        "            del x0, loss\n",
        "            torch.cuda.empty_cache()\n",
        "            gc.collect()\n",
        "\n",
        "        avg_loss = epoch_loss / len(dataloader)\n",
        "        print(f\"Epoch {epoch+1} Average Loss: {avg_loss:.4f}\")"
      ],
      "metadata": {
        "id": "hIDdsrASyoeD"
      },
      "execution_count": 10,
      "outputs": []
    },
    {
      "cell_type": "code",
      "source": [
        "#FOR CIFAR-10\n",
        "def sample_diffusion_model(diffusion: DenoiseDiffusion, num_samples: int, device: torch.device,num_steps_to_show):\n",
        "    diffusion.eval()\n",
        "    saved_steps = []  # save image in middle\n",
        "    saved_steps_times = []  # save time steps\n",
        "\n",
        "    with torch.no_grad():\n",
        "        xt = torch.randn(num_samples, 3, 32, 32).to(device)\n",
        "        step_interval = diffusion.n_steps // num_steps_to_show\n",
        "        steps_to_save = set([diffusion.n_steps - i * step_interval for i in range(1, num_steps_to_show + 1)])\n",
        "        steps_to_save.add(0)\n",
        "\n",
        "        for t_ in tqdm(reversed(range(diffusion.n_steps)), desc=\"Sampling\"):\n",
        "            t = torch.full((num_samples,), t_, device=device, dtype=torch.long)\n",
        "            xt = diffusion.p_sample(xt, t)\n",
        "\n",
        "            if t_ in steps_to_save:\n",
        "                saved_steps.append(xt[0].cpu().clone())\n",
        "                saved_steps_times.append(t_)\n",
        "\n",
        "            del t\n",
        "            torch.cuda.empty_cache()\n",
        "            gc.collect()\n",
        "\n",
        "        final_images = xt.clamp(-1, 1)\n",
        "\n",
        "\n",
        "    fig, axes = plt.subplots(1, num_steps_to_show, figsize=(num_steps_to_show * 2, 2))\n",
        "    fig.suptitle(\"Progressive Generation\")\n",
        "\n",
        "    for idx, img in enumerate(saved_steps):\n",
        "        img = img.permute(1, 2, 0).numpy()\n",
        "        img = (img + 1) / 2\n",
        "        img = (img * 255).astype(np.uint8)\n",
        "        axes[idx].imshow(img)\n",
        "        axes[idx].axis('off')\n",
        "        axes[idx].set_title(f\"Step {saved_steps_times[idx]}\")\n",
        "\n",
        "    plt.tight_layout()\n",
        "    plt.show()\n",
        "\n",
        "    return final_images"
      ],
      "metadata": {
        "id": "vN6T_SE2yuy_"
      },
      "execution_count": 11,
      "outputs": []
    },
    {
      "cell_type": "code",
      "source": [
        "# for MNIST\n",
        "def sample_diffusion_model_2(diffusion: DenoiseDiffusion, num_samples: int, device: torch.device,num_steps_to_show: int = 10):\n",
        "    diffusion.eval()\n",
        "    saved_steps = []\n",
        "    saved_steps_times = []\n",
        "    with torch.no_grad():\n",
        "        xt = torch.randn(num_samples, 1, 32, 32).to(device)\n",
        "\n",
        "        step_interval = diffusion.n_steps // num_steps_to_show\n",
        "        steps_to_save = set([diffusion.n_steps - i * step_interval for i in range(1, num_steps_to_show + 1)])\n",
        "        steps_to_save.add(0)\n",
        "\n",
        "\n",
        "        for t_ in tqdm(reversed(range(diffusion.n_steps)), desc=\"Sampling\"):\n",
        "            t = torch.full((num_samples,), t_, device=device, dtype=torch.long)\n",
        "            xt = diffusion.p_sample(xt, t)\n",
        "\n",
        "            if t_ in steps_to_save:\n",
        "                saved_steps.append(xt[0].cpu().clone())\n",
        "                saved_steps_times.append(t_)\n",
        "\n",
        "            del t\n",
        "            torch.cuda.empty_cache()\n",
        "            gc.collect()\n",
        "\n",
        "        final_images = xt.clamp(-1, 1)\n",
        "\n",
        "    fig, axes = plt.subplots(1, num_steps_to_show, figsize=(num_steps_to_show * 2, 2))\n",
        "    fig.suptitle(\"Progressive Generation\")\n",
        "\n",
        "    for idx, img in enumerate(saved_steps):\n",
        "        img = img.squeeze().numpy()\n",
        "        img = (img + 1) / 2\n",
        "        axes[idx].imshow(img, cmap='gray')\n",
        "        axes[idx].axis('off')\n",
        "        axes[idx].set_title(f\"Step {saved_steps_times[idx]}\")\n",
        "\n",
        "    plt.tight_layout()\n",
        "    plt.show()\n",
        "\n",
        "    return final_images"
      ],
      "metadata": {
        "id": "KOAk8lEfkWFp"
      },
      "execution_count": 12,
      "outputs": []
    },
    {
      "cell_type": "code",
      "source": [
        "def calculate_fid(real_images, generated_images, batch_size=32, device='cuda'):\n",
        "    preprocess = transforms.Compose([\n",
        "        transforms.Resize((299, 299)),\n",
        "        transforms.Normalize(mean=[0.485, 0.456, 0.406],\n",
        "                             std=[0.229, 0.224, 0.225])\n",
        "    ])\n",
        "\n",
        "    inception = inception_v3(pretrained=True, transform_input=False).to(device)\n",
        "    inception.eval()\n",
        "\n",
        "    def get_features(x):\n",
        "        features = []\n",
        "        with torch.no_grad():\n",
        "            dataset = TensorDataset(x)\n",
        "            loader = DataLoader(dataset, batch_size=batch_size, shuffle=False)\n",
        "            for batch in tqdm(loader, desc=\"提取特征\"):\n",
        "                batch = batch[0].to(device)\n",
        "                batch = preprocess(batch)\n",
        "                out = inception(batch).cpu().numpy()\n",
        "                features.append(out)\n",
        "        return np.concatenate(features, axis=0)\n",
        "\n",
        "    real_features = get_features(real_images)\n",
        "    gen_features = get_features(generated_images)\n",
        "\n",
        "    mu1 = np.mean(real_features, axis=0)\n",
        "    sigma1 = np.cov(real_features, rowvar=False)\n",
        "\n",
        "    mu2 = np.mean(gen_features, axis=0)\n",
        "    sigma2 = np.cov(gen_features, rowvar=False)\n",
        "\n",
        "    diff = mu1 - mu2\n",
        "    covmean, _ = linalg.sqrtm(sigma1.dot(sigma2), disp=False)\n",
        "    if np.iscomplexobj(covmean):\n",
        "        covmean = covmean.real\n",
        "    fid = diff.dot(diff) + np.trace(sigma1 + sigma2 - 2 * covmean)\n",
        "\n",
        "    return fid"
      ],
      "metadata": {
        "id": "2TxhGglF8m6o"
      },
      "execution_count": 13,
      "outputs": []
    },
    {
      "cell_type": "code",
      "source": [
        "# for MNIST dataset\n",
        "\n",
        "def calculate_fid_2(real_images, generated_images, batch_size=32, device='cuda'):\n",
        "    # Define preprocessing steps\n",
        "    preprocess = transforms.Compose([\n",
        "        transforms.Resize((299, 299)),                     # Resize to Inception v3 expected size\n",
        "        transforms.Lambda(lambda x: x.repeat(3, 1, 1)),    # Convert 1 channel to 3 channels by repeating\n",
        "        transforms.Normalize(mean=[0.485, 0.456, 0.406],   # Normalize as per Inception v3 requirements\n",
        "                             std=[0.229, 0.224, 0.225])\n",
        "    ])\n",
        "\n",
        "    # Load pre-trained Inception v3 model\n",
        "    inception = inception_v3(pretrained=True, transform_input=False).to(device)\n",
        "    inception.eval()\n",
        "\n",
        "    def get_features(x):\n",
        "        features = []\n",
        "        with torch.no_grad():\n",
        "            dataset = TensorDataset(x)\n",
        "            loader = DataLoader(dataset, batch_size=batch_size, shuffle=False)\n",
        "            for batch in tqdm(loader, desc=\"Extracting features\"):\n",
        "                batch = batch[0].to(device).float()                 # Ensure tensor is float\n",
        "                if batch.dim() == 3:\n",
        "                    batch = batch.unsqueeze(1)                      # Add channel dimension if missing\n",
        "                batch = preprocess(batch)                            # Apply preprocessing\n",
        "                out = inception(batch)                              # Forward pass through Inception\n",
        "                # If inception returns auxiliary outputs, take the main output\n",
        "                if isinstance(out, tuple):\n",
        "                    out = out[0]\n",
        "                out = out.cpu().numpy()\n",
        "                features.append(out)\n",
        "        return np.concatenate(features, axis=0)\n",
        "\n",
        "    # Extract features for real and generated images\n",
        "    real_features = get_features(real_images)\n",
        "    gen_features = get_features(generated_images)\n",
        "\n",
        "    # Compute mean and covariance statistics\n",
        "    mu1 = np.mean(real_features, axis=0)\n",
        "    sigma1 = np.cov(real_features, rowvar=False)\n",
        "\n",
        "    mu2 = np.mean(gen_features, axis=0)\n",
        "    sigma2 = np.cov(gen_features, rowvar=False)\n",
        "\n",
        "    # Compute FID\n",
        "    diff = mu1 - mu2\n",
        "    covmean, _ = linalg.sqrtm(sigma1.dot(sigma2), disp=False)\n",
        "    if np.iscomplexobj(covmean):\n",
        "        covmean = covmean.real\n",
        "    fid = diff.dot(diff) + np.trace(sigma1 + sigma2 - 2 * covmean)\n",
        "\n",
        "    return fid\n"
      ],
      "metadata": {
        "id": "3nlbwcfvej8Y"
      },
      "execution_count": 14,
      "outputs": []
    },
    {
      "cell_type": "code",
      "source": [
        "#\n",
        "n_channels = 64\n",
        "channel_multipliers = [1, 2, 2, 4]\n",
        "is_attention = [False, False, False, True]\n",
        "n_steps = 1000\n",
        "batch_size = 64\n",
        "image_size = 32\n",
        "learning_rate = 2e-5\n",
        "n_samples = 16\n",
        "epochs = 10  # 10 for MNIST 50 for CIFAR-10\n",
        "    # 设置设备\n",
        "device = torch.device('cuda' if torch.cuda.is_available() else 'cpu')\n",
        "os.environ[\"PYTORCH_CUDA_ALLOC_CONF\"] = \"expandable_segments:True\""
      ],
      "metadata": {
        "id": "I8LVTCKiADtz"
      },
      "execution_count": 15,
      "outputs": []
    },
    {
      "cell_type": "code",
      "source": [
        "#CIFAR-10\n",
        "transform_train = transforms.Compose([\n",
        "transforms.Resize((image_size, image_size)),\n",
        "transforms.RandomHorizontalFlip(),                     # augmentation\n",
        "transforms.ToTensor(),\n",
        "transforms.Normalize((0.5, 0.5, 0.5), (0.5, 0.5, 0.5))\n",
        "])\n",
        "\n",
        "\n",
        "transform_test = transforms.Compose([\n",
        "transforms.Resize((image_size, image_size)),\n",
        "transforms.ToTensor(),\n",
        "transforms.Normalize((0.5, 0.5, 0.5), (0.5, 0.5, 0.5))\n",
        "])\n",
        "\n",
        "\n",
        "\n",
        "train_set = torchvision.datasets.CIFAR10(root='./data', train=True, download=True, transform=transform_train)\n",
        "test_set = torchvision.datasets.CIFAR10(root='./data', train=False, download=True, transform=transform_test)\n",
        "train_loader = DataLoader(train_set, batch_size=batch_size, shuffle=True, num_workers=4, drop_last=True, pin_memory=True)\n",
        "test_loader = DataLoader(test_set, batch_size=batch_size, shuffle=False, num_workers=4, drop_last=True, pin_memory=True)"
      ],
      "metadata": {
        "colab": {
          "base_uri": "https://localhost:8080/"
        },
        "id": "JZe7D-j_AHjY",
        "outputId": "5ee90139-6aae-44da-f72d-6f13977e9351"
      },
      "execution_count": null,
      "outputs": [
        {
          "output_type": "stream",
          "name": "stdout",
          "text": [
            "Downloading https://www.cs.toronto.edu/~kriz/cifar-10-python.tar.gz to ./data/cifar-10-python.tar.gz\n"
          ]
        },
        {
          "output_type": "stream",
          "name": "stderr",
          "text": [
            "100%|██████████| 170M/170M [00:01<00:00, 95.9MB/s]\n"
          ]
        },
        {
          "output_type": "stream",
          "name": "stdout",
          "text": [
            "Extracting ./data/cifar-10-python.tar.gz to ./data\n",
            "Files already downloaded and verified\n"
          ]
        }
      ]
    },
    {
      "cell_type": "code",
      "source": [
        "# MNIST\n",
        "transform_train = transforms.Compose([\n",
        "    transforms.Resize((image_size, image_size)),\n",
        "    transforms.ToTensor(),\n",
        "    transforms.Normalize((0.5,), (0.5,))  # MNIST gray scale\n",
        "])\n",
        "\n",
        "transform_test = transforms.Compose([\n",
        "    transforms.Resize((image_size, image_size)),\n",
        "    transforms.ToTensor(),\n",
        "    transforms.Normalize((0.5,), (0.5,))\n",
        "])\n",
        "\n",
        "\n",
        "train_set = torchvision.datasets.MNIST(\n",
        "    root='./data',\n",
        "    train=True,\n",
        "    download=True,\n",
        "    transform=transform_train\n",
        ")\n",
        "\n",
        "test_set = torchvision.datasets.MNIST(\n",
        "    root='./data',\n",
        "    train=False,\n",
        "    download=True,\n",
        "    transform=transform_test\n",
        ")\n",
        "\n",
        "\n",
        "train_loader = DataLoader(\n",
        "    train_set,\n",
        "    batch_size=batch_size,\n",
        "    shuffle=True,\n",
        "    num_workers=4,\n",
        "    drop_last=True,\n",
        "    pin_memory=True\n",
        ")\n",
        "\n",
        "test_loader = DataLoader(\n",
        "    test_set,\n",
        "    batch_size=batch_size,\n",
        "    shuffle=False,\n",
        "    num_workers=4,\n",
        "    drop_last=True,\n",
        "    pin_memory=True\n",
        ")"
      ],
      "metadata": {
        "id": "JwKH8AfyZplY",
        "colab": {
          "base_uri": "https://localhost:8080/"
        },
        "outputId": "71a5b4d0-d575-45a5-d482-4260989135b5"
      },
      "execution_count": 16,
      "outputs": [
        {
          "output_type": "stream",
          "name": "stdout",
          "text": [
            "Downloading http://yann.lecun.com/exdb/mnist/train-images-idx3-ubyte.gz\n",
            "Failed to download (trying next):\n",
            "HTTP Error 403: Forbidden\n",
            "\n",
            "Downloading https://ossci-datasets.s3.amazonaws.com/mnist/train-images-idx3-ubyte.gz\n",
            "Downloading https://ossci-datasets.s3.amazonaws.com/mnist/train-images-idx3-ubyte.gz to ./data/MNIST/raw/train-images-idx3-ubyte.gz\n"
          ]
        },
        {
          "output_type": "stream",
          "name": "stderr",
          "text": [
            "100%|██████████| 9.91M/9.91M [00:00<00:00, 43.9MB/s]\n"
          ]
        },
        {
          "output_type": "stream",
          "name": "stdout",
          "text": [
            "Extracting ./data/MNIST/raw/train-images-idx3-ubyte.gz to ./data/MNIST/raw\n",
            "\n",
            "Downloading http://yann.lecun.com/exdb/mnist/train-labels-idx1-ubyte.gz\n",
            "Failed to download (trying next):\n",
            "HTTP Error 403: Forbidden\n",
            "\n",
            "Downloading https://ossci-datasets.s3.amazonaws.com/mnist/train-labels-idx1-ubyte.gz\n",
            "Downloading https://ossci-datasets.s3.amazonaws.com/mnist/train-labels-idx1-ubyte.gz to ./data/MNIST/raw/train-labels-idx1-ubyte.gz\n"
          ]
        },
        {
          "output_type": "stream",
          "name": "stderr",
          "text": [
            "100%|██████████| 28.9k/28.9k [00:00<00:00, 1.19MB/s]\n"
          ]
        },
        {
          "output_type": "stream",
          "name": "stdout",
          "text": [
            "Extracting ./data/MNIST/raw/train-labels-idx1-ubyte.gz to ./data/MNIST/raw\n",
            "\n",
            "Downloading http://yann.lecun.com/exdb/mnist/t10k-images-idx3-ubyte.gz\n",
            "Failed to download (trying next):\n",
            "HTTP Error 403: Forbidden\n",
            "\n",
            "Downloading https://ossci-datasets.s3.amazonaws.com/mnist/t10k-images-idx3-ubyte.gz\n",
            "Downloading https://ossci-datasets.s3.amazonaws.com/mnist/t10k-images-idx3-ubyte.gz to ./data/MNIST/raw/t10k-images-idx3-ubyte.gz\n"
          ]
        },
        {
          "output_type": "stream",
          "name": "stderr",
          "text": [
            "100%|██████████| 1.65M/1.65M [00:00<00:00, 10.8MB/s]\n"
          ]
        },
        {
          "output_type": "stream",
          "name": "stdout",
          "text": [
            "Extracting ./data/MNIST/raw/t10k-images-idx3-ubyte.gz to ./data/MNIST/raw\n",
            "\n",
            "Downloading http://yann.lecun.com/exdb/mnist/t10k-labels-idx1-ubyte.gz\n",
            "Failed to download (trying next):\n",
            "HTTP Error 403: Forbidden\n",
            "\n",
            "Downloading https://ossci-datasets.s3.amazonaws.com/mnist/t10k-labels-idx1-ubyte.gz\n",
            "Downloading https://ossci-datasets.s3.amazonaws.com/mnist/t10k-labels-idx1-ubyte.gz to ./data/MNIST/raw/t10k-labels-idx1-ubyte.gz\n"
          ]
        },
        {
          "output_type": "stream",
          "name": "stderr",
          "text": [
            "100%|██████████| 4.54k/4.54k [00:00<00:00, 3.99MB/s]"
          ]
        },
        {
          "output_type": "stream",
          "name": "stdout",
          "text": [
            "Extracting ./data/MNIST/raw/t10k-labels-idx1-ubyte.gz to ./data/MNIST/raw\n",
            "\n"
          ]
        },
        {
          "output_type": "stream",
          "name": "stderr",
          "text": [
            "\n"
          ]
        }
      ]
    },
    {
      "cell_type": "code",
      "source": [
        "\n",
        "unet = UNet(\n",
        "    # image_channels=1,#MNIST\n",
        "    image_channels=1,#CIFAR-10 use 3\n",
        "    n_channels=n_channels,\n",
        "    ch_mults=channel_multipliers,\n",
        "    is_attn=is_attention,\n",
        "    n_blocks=2\n",
        " ).to(device)"
      ],
      "metadata": {
        "id": "rhRGvIJ7Anye"
      },
      "execution_count": 24,
      "outputs": []
    },
    {
      "cell_type": "code",
      "source": [
        "\n",
        "diffusion = DenoiseDiffusion(\n",
        "    eps_model=unet,\n",
        "    n_steps=n_steps,\n",
        "    device=device\n",
        ")"
      ],
      "metadata": {
        "id": "PCUQc43Mwogr"
      },
      "execution_count": 25,
      "outputs": []
    },
    {
      "cell_type": "code",
      "source": [
        "\n",
        "optimizer = optim.Adam(unet.parameters(), lr=learning_rate)"
      ],
      "metadata": {
        "id": "5LOs1huVwp6p"
      },
      "execution_count": 26,
      "outputs": []
    },
    {
      "cell_type": "code",
      "source": [
        "\n",
        "train_diffusion_model(diffusion, train_loader, optimizer, device, epochs=epochs)"
      ],
      "metadata": {
        "colab": {
          "base_uri": "https://localhost:8080/"
        },
        "id": "GaXy6HOEy3v5",
        "outputId": "78b6969e-d4ad-4a91-f9f4-d050f4fa7c9f"
      },
      "execution_count": 27,
      "outputs": [
        {
          "output_type": "stream",
          "name": "stderr",
          "text": [
            "\rEpoch 1/10:   0%|          | 0/937 [00:00<?, ?it/s]"
          ]
        },
        {
          "output_type": "stream",
          "name": "stdout",
          "text": [
            "Epoch [1/10] Step [0/937], Loss: 0.9049\n"
          ]
        },
        {
          "output_type": "stream",
          "name": "stderr",
          "text": [
            "Epoch 1/10:  11%|█         | 100/937 [00:36<05:08,  2.71it/s]"
          ]
        },
        {
          "output_type": "stream",
          "name": "stdout",
          "text": [
            "Epoch [1/10] Step [100/937], Loss: 0.1431\n"
          ]
        },
        {
          "output_type": "stream",
          "name": "stderr",
          "text": [
            "Epoch 1/10:  21%|██▏       | 200/937 [01:11<04:12,  2.92it/s]"
          ]
        },
        {
          "output_type": "stream",
          "name": "stdout",
          "text": [
            "Epoch [1/10] Step [200/937], Loss: 0.1087\n"
          ]
        },
        {
          "output_type": "stream",
          "name": "stderr",
          "text": [
            "Epoch 1/10:  32%|███▏      | 300/937 [01:46<03:40,  2.89it/s]"
          ]
        },
        {
          "output_type": "stream",
          "name": "stdout",
          "text": [
            "Epoch [1/10] Step [300/937], Loss: 0.0881\n"
          ]
        },
        {
          "output_type": "stream",
          "name": "stderr",
          "text": [
            "Epoch 1/10:  43%|████▎     | 400/937 [02:20<03:06,  2.88it/s]"
          ]
        },
        {
          "output_type": "stream",
          "name": "stdout",
          "text": [
            "Epoch [1/10] Step [400/937], Loss: 0.0897\n"
          ]
        },
        {
          "output_type": "stream",
          "name": "stderr",
          "text": [
            "Epoch 1/10:  53%|█████▎    | 500/937 [02:55<02:31,  2.89it/s]"
          ]
        },
        {
          "output_type": "stream",
          "name": "stdout",
          "text": [
            "Epoch [1/10] Step [500/937], Loss: 0.0820\n"
          ]
        },
        {
          "output_type": "stream",
          "name": "stderr",
          "text": [
            "Epoch 1/10:  64%|██████▍   | 600/937 [03:29<01:54,  2.95it/s]"
          ]
        },
        {
          "output_type": "stream",
          "name": "stdout",
          "text": [
            "Epoch [1/10] Step [600/937], Loss: 0.0505\n"
          ]
        },
        {
          "output_type": "stream",
          "name": "stderr",
          "text": [
            "Epoch 1/10:  75%|███████▍  | 700/937 [04:04<01:21,  2.92it/s]"
          ]
        },
        {
          "output_type": "stream",
          "name": "stdout",
          "text": [
            "Epoch [1/10] Step [700/937], Loss: 0.0470\n"
          ]
        },
        {
          "output_type": "stream",
          "name": "stderr",
          "text": [
            "Epoch 1/10:  85%|████████▌ | 800/937 [04:38<00:47,  2.87it/s]"
          ]
        },
        {
          "output_type": "stream",
          "name": "stdout",
          "text": [
            "Epoch [1/10] Step [800/937], Loss: 0.0690\n"
          ]
        },
        {
          "output_type": "stream",
          "name": "stderr",
          "text": [
            "Epoch 1/10:  96%|█████████▌| 900/937 [05:13<00:12,  2.92it/s]"
          ]
        },
        {
          "output_type": "stream",
          "name": "stdout",
          "text": [
            "Epoch [1/10] Step [900/937], Loss: 0.0446\n"
          ]
        },
        {
          "output_type": "stream",
          "name": "stderr",
          "text": [
            "Epoch 1/10: 100%|██████████| 937/937 [05:26<00:00,  2.87it/s]\n"
          ]
        },
        {
          "output_type": "stream",
          "name": "stdout",
          "text": [
            "Epoch 1 Average Loss: 0.0901\n"
          ]
        },
        {
          "output_type": "stream",
          "name": "stderr",
          "text": [
            "\rEpoch 2/10:   0%|          | 0/937 [00:00<?, ?it/s]"
          ]
        },
        {
          "output_type": "stream",
          "name": "stdout",
          "text": [
            "Epoch [2/10] Step [0/937], Loss: 0.0356\n"
          ]
        },
        {
          "output_type": "stream",
          "name": "stderr",
          "text": [
            "Epoch 2/10:  11%|█         | 100/937 [00:35<05:07,  2.72it/s]"
          ]
        },
        {
          "output_type": "stream",
          "name": "stdout",
          "text": [
            "Epoch [2/10] Step [100/937], Loss: 0.0436\n"
          ]
        },
        {
          "output_type": "stream",
          "name": "stderr",
          "text": [
            "Epoch 2/10:  21%|██▏       | 200/937 [01:10<04:17,  2.86it/s]"
          ]
        },
        {
          "output_type": "stream",
          "name": "stdout",
          "text": [
            "Epoch [2/10] Step [200/937], Loss: 0.0448\n"
          ]
        },
        {
          "output_type": "stream",
          "name": "stderr",
          "text": [
            "Epoch 2/10:  32%|███▏      | 300/937 [01:46<03:44,  2.83it/s]"
          ]
        },
        {
          "output_type": "stream",
          "name": "stdout",
          "text": [
            "Epoch [2/10] Step [300/937], Loss: 0.0387\n"
          ]
        },
        {
          "output_type": "stream",
          "name": "stderr",
          "text": [
            "Epoch 2/10:  43%|████▎     | 400/937 [02:21<03:13,  2.78it/s]"
          ]
        },
        {
          "output_type": "stream",
          "name": "stdout",
          "text": [
            "Epoch [2/10] Step [400/937], Loss: 0.0371\n"
          ]
        },
        {
          "output_type": "stream",
          "name": "stderr",
          "text": [
            "Epoch 2/10:  53%|█████▎    | 500/937 [02:56<02:34,  2.83it/s]"
          ]
        },
        {
          "output_type": "stream",
          "name": "stdout",
          "text": [
            "Epoch [2/10] Step [500/937], Loss: 0.0225\n"
          ]
        },
        {
          "output_type": "stream",
          "name": "stderr",
          "text": [
            "Epoch 2/10:  64%|██████▍   | 600/937 [03:32<02:01,  2.78it/s]"
          ]
        },
        {
          "output_type": "stream",
          "name": "stdout",
          "text": [
            "Epoch [2/10] Step [600/937], Loss: 0.0358\n"
          ]
        },
        {
          "output_type": "stream",
          "name": "stderr",
          "text": [
            "Epoch 2/10:  75%|███████▍  | 700/937 [04:09<01:26,  2.73it/s]"
          ]
        },
        {
          "output_type": "stream",
          "name": "stdout",
          "text": [
            "Epoch [2/10] Step [700/937], Loss: 0.0284\n"
          ]
        },
        {
          "output_type": "stream",
          "name": "stderr",
          "text": [
            "Epoch 2/10:  85%|████████▌ | 800/937 [04:45<00:49,  2.78it/s]"
          ]
        },
        {
          "output_type": "stream",
          "name": "stdout",
          "text": [
            "Epoch [2/10] Step [800/937], Loss: 0.0239\n"
          ]
        },
        {
          "output_type": "stream",
          "name": "stderr",
          "text": [
            "Epoch 2/10:  96%|█████████▌| 900/937 [05:21<00:13,  2.76it/s]"
          ]
        },
        {
          "output_type": "stream",
          "name": "stdout",
          "text": [
            "Epoch [2/10] Step [900/937], Loss: 0.0253\n"
          ]
        },
        {
          "output_type": "stream",
          "name": "stderr",
          "text": [
            "Epoch 2/10: 100%|██████████| 937/937 [05:35<00:00,  2.79it/s]\n"
          ]
        },
        {
          "output_type": "stream",
          "name": "stdout",
          "text": [
            "Epoch 2 Average Loss: 0.0353\n"
          ]
        },
        {
          "output_type": "stream",
          "name": "stderr",
          "text": [
            "\rEpoch 3/10:   0%|          | 0/937 [00:00<?, ?it/s]"
          ]
        },
        {
          "output_type": "stream",
          "name": "stdout",
          "text": [
            "Epoch [3/10] Step [0/937], Loss: 0.0255\n"
          ]
        },
        {
          "output_type": "stream",
          "name": "stderr",
          "text": [
            "Epoch 3/10:  11%|█         | 100/937 [00:36<04:54,  2.84it/s]"
          ]
        },
        {
          "output_type": "stream",
          "name": "stdout",
          "text": [
            "Epoch [3/10] Step [100/937], Loss: 0.0279\n"
          ]
        },
        {
          "output_type": "stream",
          "name": "stderr",
          "text": [
            "Epoch 3/10:  21%|██▏       | 200/937 [01:11<04:22,  2.81it/s]"
          ]
        },
        {
          "output_type": "stream",
          "name": "stdout",
          "text": [
            "Epoch [3/10] Step [200/937], Loss: 0.0236\n"
          ]
        },
        {
          "output_type": "stream",
          "name": "stderr",
          "text": [
            "Epoch 3/10:  32%|███▏      | 300/937 [01:46<03:43,  2.85it/s]"
          ]
        },
        {
          "output_type": "stream",
          "name": "stdout",
          "text": [
            "Epoch [3/10] Step [300/937], Loss: 0.0319\n"
          ]
        },
        {
          "output_type": "stream",
          "name": "stderr",
          "text": [
            "Epoch 3/10:  43%|████▎     | 400/937 [02:21<03:05,  2.89it/s]"
          ]
        },
        {
          "output_type": "stream",
          "name": "stdout",
          "text": [
            "Epoch [3/10] Step [400/937], Loss: 0.0288\n"
          ]
        },
        {
          "output_type": "stream",
          "name": "stderr",
          "text": [
            "Epoch 3/10:  53%|█████▎    | 500/937 [02:56<02:30,  2.91it/s]"
          ]
        },
        {
          "output_type": "stream",
          "name": "stdout",
          "text": [
            "Epoch [3/10] Step [500/937], Loss: 0.0329\n"
          ]
        },
        {
          "output_type": "stream",
          "name": "stderr",
          "text": [
            "Epoch 3/10:  64%|██████▍   | 600/937 [03:31<01:56,  2.89it/s]"
          ]
        },
        {
          "output_type": "stream",
          "name": "stdout",
          "text": [
            "Epoch [3/10] Step [600/937], Loss: 0.0247\n"
          ]
        },
        {
          "output_type": "stream",
          "name": "stderr",
          "text": [
            "Epoch 3/10:  75%|███████▍  | 700/937 [04:06<01:23,  2.83it/s]"
          ]
        },
        {
          "output_type": "stream",
          "name": "stdout",
          "text": [
            "Epoch [3/10] Step [700/937], Loss: 0.0205\n"
          ]
        },
        {
          "output_type": "stream",
          "name": "stderr",
          "text": [
            "Epoch 3/10:  85%|████████▌ | 800/937 [04:41<00:48,  2.85it/s]"
          ]
        },
        {
          "output_type": "stream",
          "name": "stdout",
          "text": [
            "Epoch [3/10] Step [800/937], Loss: 0.0261\n"
          ]
        },
        {
          "output_type": "stream",
          "name": "stderr",
          "text": [
            "Epoch 3/10:  96%|█████████▌| 900/937 [05:16<00:12,  2.91it/s]"
          ]
        },
        {
          "output_type": "stream",
          "name": "stdout",
          "text": [
            "Epoch [3/10] Step [900/937], Loss: 0.0266\n"
          ]
        },
        {
          "output_type": "stream",
          "name": "stderr",
          "text": [
            "Epoch 3/10: 100%|██████████| 937/937 [05:29<00:00,  2.84it/s]\n"
          ]
        },
        {
          "output_type": "stream",
          "name": "stdout",
          "text": [
            "Epoch 3 Average Loss: 0.0289\n"
          ]
        },
        {
          "output_type": "stream",
          "name": "stderr",
          "text": [
            "\rEpoch 4/10:   0%|          | 0/937 [00:00<?, ?it/s]"
          ]
        },
        {
          "output_type": "stream",
          "name": "stdout",
          "text": [
            "Epoch [4/10] Step [0/937], Loss: 0.0303\n"
          ]
        },
        {
          "output_type": "stream",
          "name": "stderr",
          "text": [
            "Epoch 4/10:  11%|█         | 100/937 [00:36<04:59,  2.79it/s]"
          ]
        },
        {
          "output_type": "stream",
          "name": "stdout",
          "text": [
            "Epoch [4/10] Step [100/937], Loss: 0.0315\n"
          ]
        },
        {
          "output_type": "stream",
          "name": "stderr",
          "text": [
            "Epoch 4/10:  21%|██▏       | 200/937 [01:11<04:16,  2.87it/s]"
          ]
        },
        {
          "output_type": "stream",
          "name": "stdout",
          "text": [
            "Epoch [4/10] Step [200/937], Loss: 0.0245\n"
          ]
        },
        {
          "output_type": "stream",
          "name": "stderr",
          "text": [
            "Epoch 4/10:  32%|███▏      | 300/937 [01:46<03:46,  2.82it/s]"
          ]
        },
        {
          "output_type": "stream",
          "name": "stdout",
          "text": [
            "Epoch [4/10] Step [300/937], Loss: 0.0256\n"
          ]
        },
        {
          "output_type": "stream",
          "name": "stderr",
          "text": [
            "Epoch 4/10:  43%|████▎     | 400/937 [02:22<03:12,  2.79it/s]"
          ]
        },
        {
          "output_type": "stream",
          "name": "stdout",
          "text": [
            "Epoch [4/10] Step [400/937], Loss: 0.0252\n"
          ]
        },
        {
          "output_type": "stream",
          "name": "stderr",
          "text": [
            "Epoch 4/10:  53%|█████▎    | 500/937 [02:58<02:36,  2.80it/s]"
          ]
        },
        {
          "output_type": "stream",
          "name": "stdout",
          "text": [
            "Epoch [4/10] Step [500/937], Loss: 0.0261\n"
          ]
        },
        {
          "output_type": "stream",
          "name": "stderr",
          "text": [
            "Epoch 4/10:  64%|██████▍   | 600/937 [03:33<01:58,  2.85it/s]"
          ]
        },
        {
          "output_type": "stream",
          "name": "stdout",
          "text": [
            "Epoch [4/10] Step [600/937], Loss: 0.0185\n"
          ]
        },
        {
          "output_type": "stream",
          "name": "stderr",
          "text": [
            "Epoch 4/10:  75%|███████▍  | 700/937 [04:08<01:24,  2.80it/s]"
          ]
        },
        {
          "output_type": "stream",
          "name": "stdout",
          "text": [
            "Epoch [4/10] Step [700/937], Loss: 0.0192\n"
          ]
        },
        {
          "output_type": "stream",
          "name": "stderr",
          "text": [
            "Epoch 4/10:  85%|████████▌ | 800/937 [04:44<00:48,  2.85it/s]"
          ]
        },
        {
          "output_type": "stream",
          "name": "stdout",
          "text": [
            "Epoch [4/10] Step [800/937], Loss: 0.0237\n"
          ]
        },
        {
          "output_type": "stream",
          "name": "stderr",
          "text": [
            "Epoch 4/10:  96%|█████████▌| 900/937 [05:19<00:13,  2.84it/s]"
          ]
        },
        {
          "output_type": "stream",
          "name": "stdout",
          "text": [
            "Epoch [4/10] Step [900/937], Loss: 0.0203\n"
          ]
        },
        {
          "output_type": "stream",
          "name": "stderr",
          "text": [
            "Epoch 4/10: 100%|██████████| 937/937 [05:33<00:00,  2.81it/s]\n"
          ]
        },
        {
          "output_type": "stream",
          "name": "stdout",
          "text": [
            "Epoch 4 Average Loss: 0.0256\n"
          ]
        },
        {
          "output_type": "stream",
          "name": "stderr",
          "text": [
            "\rEpoch 5/10:   0%|          | 0/937 [00:00<?, ?it/s]"
          ]
        },
        {
          "output_type": "stream",
          "name": "stdout",
          "text": [
            "Epoch [5/10] Step [0/937], Loss: 0.0204\n"
          ]
        },
        {
          "output_type": "stream",
          "name": "stderr",
          "text": [
            "Epoch 5/10:  11%|█         | 100/937 [00:35<04:57,  2.82it/s]"
          ]
        },
        {
          "output_type": "stream",
          "name": "stdout",
          "text": [
            "Epoch [5/10] Step [100/937], Loss: 0.0273\n"
          ]
        },
        {
          "output_type": "stream",
          "name": "stderr",
          "text": [
            "Epoch 5/10:  21%|██▏       | 200/937 [01:10<04:16,  2.87it/s]"
          ]
        },
        {
          "output_type": "stream",
          "name": "stdout",
          "text": [
            "Epoch [5/10] Step [200/937], Loss: 0.0194\n"
          ]
        },
        {
          "output_type": "stream",
          "name": "stderr",
          "text": [
            "Epoch 5/10:  32%|███▏      | 300/937 [01:45<03:53,  2.73it/s]"
          ]
        },
        {
          "output_type": "stream",
          "name": "stdout",
          "text": [
            "Epoch [5/10] Step [300/937], Loss: 0.0263\n"
          ]
        },
        {
          "output_type": "stream",
          "name": "stderr",
          "text": [
            "Epoch 5/10:  43%|████▎     | 400/937 [02:20<03:05,  2.89it/s]"
          ]
        },
        {
          "output_type": "stream",
          "name": "stdout",
          "text": [
            "Epoch [5/10] Step [400/937], Loss: 0.0233\n"
          ]
        },
        {
          "output_type": "stream",
          "name": "stderr",
          "text": [
            "Epoch 5/10:  53%|█████▎    | 500/937 [02:55<02:31,  2.88it/s]"
          ]
        },
        {
          "output_type": "stream",
          "name": "stdout",
          "text": [
            "Epoch [5/10] Step [500/937], Loss: 0.0178\n"
          ]
        },
        {
          "output_type": "stream",
          "name": "stderr",
          "text": [
            "Epoch 5/10:  64%|██████▍   | 600/937 [03:30<02:01,  2.77it/s]"
          ]
        },
        {
          "output_type": "stream",
          "name": "stdout",
          "text": [
            "Epoch [5/10] Step [600/937], Loss: 0.0259\n"
          ]
        },
        {
          "output_type": "stream",
          "name": "stderr",
          "text": [
            "Epoch 5/10:  75%|███████▍  | 700/937 [04:05<01:21,  2.90it/s]"
          ]
        },
        {
          "output_type": "stream",
          "name": "stdout",
          "text": [
            "Epoch [5/10] Step [700/937], Loss: 0.0261\n"
          ]
        },
        {
          "output_type": "stream",
          "name": "stderr",
          "text": [
            "Epoch 5/10:  85%|████████▌ | 800/937 [04:41<00:47,  2.90it/s]"
          ]
        },
        {
          "output_type": "stream",
          "name": "stdout",
          "text": [
            "Epoch [5/10] Step [800/937], Loss: 0.0282\n"
          ]
        },
        {
          "output_type": "stream",
          "name": "stderr",
          "text": [
            "Epoch 5/10:  96%|█████████▌| 900/937 [05:16<00:13,  2.81it/s]"
          ]
        },
        {
          "output_type": "stream",
          "name": "stdout",
          "text": [
            "Epoch [5/10] Step [900/937], Loss: 0.0361\n"
          ]
        },
        {
          "output_type": "stream",
          "name": "stderr",
          "text": [
            "Epoch 5/10: 100%|██████████| 937/937 [05:29<00:00,  2.85it/s]\n"
          ]
        },
        {
          "output_type": "stream",
          "name": "stdout",
          "text": [
            "Epoch 5 Average Loss: 0.0237\n"
          ]
        },
        {
          "output_type": "stream",
          "name": "stderr",
          "text": [
            "\rEpoch 6/10:   0%|          | 0/937 [00:00<?, ?it/s]"
          ]
        },
        {
          "output_type": "stream",
          "name": "stdout",
          "text": [
            "Epoch [6/10] Step [0/937], Loss: 0.0165\n"
          ]
        },
        {
          "output_type": "stream",
          "name": "stderr",
          "text": [
            "Epoch 6/10:  11%|█         | 100/937 [00:35<04:54,  2.84it/s]"
          ]
        },
        {
          "output_type": "stream",
          "name": "stdout",
          "text": [
            "Epoch [6/10] Step [100/937], Loss: 0.0232\n"
          ]
        },
        {
          "output_type": "stream",
          "name": "stderr",
          "text": [
            "Epoch 6/10:  21%|██▏       | 200/937 [01:11<04:21,  2.82it/s]"
          ]
        },
        {
          "output_type": "stream",
          "name": "stdout",
          "text": [
            "Epoch [6/10] Step [200/937], Loss: 0.0191\n"
          ]
        },
        {
          "output_type": "stream",
          "name": "stderr",
          "text": [
            "Epoch 6/10:  32%|███▏      | 300/937 [01:46<03:48,  2.78it/s]"
          ]
        },
        {
          "output_type": "stream",
          "name": "stdout",
          "text": [
            "Epoch [6/10] Step [300/937], Loss: 0.0193\n"
          ]
        },
        {
          "output_type": "stream",
          "name": "stderr",
          "text": [
            "Epoch 6/10:  43%|████▎     | 400/937 [02:21<03:08,  2.85it/s]"
          ]
        },
        {
          "output_type": "stream",
          "name": "stdout",
          "text": [
            "Epoch [6/10] Step [400/937], Loss: 0.0156\n"
          ]
        },
        {
          "output_type": "stream",
          "name": "stderr",
          "text": [
            "Epoch 6/10:  53%|█████▎    | 500/937 [02:57<02:33,  2.85it/s]"
          ]
        },
        {
          "output_type": "stream",
          "name": "stdout",
          "text": [
            "Epoch [6/10] Step [500/937], Loss: 0.0262\n"
          ]
        },
        {
          "output_type": "stream",
          "name": "stderr",
          "text": [
            "Epoch 6/10:  64%|██████▍   | 600/937 [03:32<01:58,  2.85it/s]"
          ]
        },
        {
          "output_type": "stream",
          "name": "stdout",
          "text": [
            "Epoch [6/10] Step [600/937], Loss: 0.0182\n"
          ]
        },
        {
          "output_type": "stream",
          "name": "stderr",
          "text": [
            "Epoch 6/10:  75%|███████▍  | 700/937 [04:08<01:25,  2.76it/s]"
          ]
        },
        {
          "output_type": "stream",
          "name": "stdout",
          "text": [
            "Epoch [6/10] Step [700/937], Loss: 0.0246\n"
          ]
        },
        {
          "output_type": "stream",
          "name": "stderr",
          "text": [
            "Epoch 6/10:  85%|████████▌ | 800/937 [04:43<00:48,  2.82it/s]"
          ]
        },
        {
          "output_type": "stream",
          "name": "stdout",
          "text": [
            "Epoch [6/10] Step [800/937], Loss: 0.0156\n"
          ]
        },
        {
          "output_type": "stream",
          "name": "stderr",
          "text": [
            "Epoch 6/10:  96%|█████████▌| 900/937 [05:18<00:12,  2.85it/s]"
          ]
        },
        {
          "output_type": "stream",
          "name": "stdout",
          "text": [
            "Epoch [6/10] Step [900/937], Loss: 0.0260\n"
          ]
        },
        {
          "output_type": "stream",
          "name": "stderr",
          "text": [
            "Epoch 6/10: 100%|██████████| 937/937 [05:31<00:00,  2.82it/s]\n"
          ]
        },
        {
          "output_type": "stream",
          "name": "stdout",
          "text": [
            "Epoch 6 Average Loss: 0.0223\n"
          ]
        },
        {
          "output_type": "stream",
          "name": "stderr",
          "text": [
            "\rEpoch 7/10:   0%|          | 0/937 [00:00<?, ?it/s]"
          ]
        },
        {
          "output_type": "stream",
          "name": "stdout",
          "text": [
            "Epoch [7/10] Step [0/937], Loss: 0.0405\n"
          ]
        },
        {
          "output_type": "stream",
          "name": "stderr",
          "text": [
            "Epoch 7/10:  11%|█         | 100/937 [00:35<04:52,  2.86it/s]"
          ]
        },
        {
          "output_type": "stream",
          "name": "stdout",
          "text": [
            "Epoch [7/10] Step [100/937], Loss: 0.0177\n"
          ]
        },
        {
          "output_type": "stream",
          "name": "stderr",
          "text": [
            "Epoch 7/10:  21%|██▏       | 200/937 [01:10<04:16,  2.87it/s]"
          ]
        },
        {
          "output_type": "stream",
          "name": "stdout",
          "text": [
            "Epoch [7/10] Step [200/937], Loss: 0.0253\n"
          ]
        },
        {
          "output_type": "stream",
          "name": "stderr",
          "text": [
            "Epoch 7/10:  32%|███▏      | 300/937 [01:45<03:40,  2.88it/s]"
          ]
        },
        {
          "output_type": "stream",
          "name": "stdout",
          "text": [
            "Epoch [7/10] Step [300/937], Loss: 0.0188\n"
          ]
        },
        {
          "output_type": "stream",
          "name": "stderr",
          "text": [
            "Epoch 7/10:  43%|████▎     | 400/937 [02:20<03:09,  2.84it/s]"
          ]
        },
        {
          "output_type": "stream",
          "name": "stdout",
          "text": [
            "Epoch [7/10] Step [400/937], Loss: 0.0207\n"
          ]
        },
        {
          "output_type": "stream",
          "name": "stderr",
          "text": [
            "Epoch 7/10:  53%|█████▎    | 500/937 [02:55<02:34,  2.83it/s]"
          ]
        },
        {
          "output_type": "stream",
          "name": "stdout",
          "text": [
            "Epoch [7/10] Step [500/937], Loss: 0.0132\n"
          ]
        },
        {
          "output_type": "stream",
          "name": "stderr",
          "text": [
            "Epoch 7/10:  64%|██████▍   | 600/937 [03:30<02:02,  2.76it/s]"
          ]
        },
        {
          "output_type": "stream",
          "name": "stdout",
          "text": [
            "Epoch [7/10] Step [600/937], Loss: 0.0178\n"
          ]
        },
        {
          "output_type": "stream",
          "name": "stderr",
          "text": [
            "Epoch 7/10:  75%|███████▍  | 700/937 [04:07<01:22,  2.86it/s]"
          ]
        },
        {
          "output_type": "stream",
          "name": "stdout",
          "text": [
            "Epoch [7/10] Step [700/937], Loss: 0.0279\n"
          ]
        },
        {
          "output_type": "stream",
          "name": "stderr",
          "text": [
            "Epoch 7/10:  85%|████████▌ | 800/937 [04:42<00:47,  2.86it/s]"
          ]
        },
        {
          "output_type": "stream",
          "name": "stdout",
          "text": [
            "Epoch [7/10] Step [800/937], Loss: 0.0148\n"
          ]
        },
        {
          "output_type": "stream",
          "name": "stderr",
          "text": [
            "Epoch 7/10:  96%|█████████▌| 900/937 [05:17<00:12,  2.86it/s]"
          ]
        },
        {
          "output_type": "stream",
          "name": "stdout",
          "text": [
            "Epoch [7/10] Step [900/937], Loss: 0.0242\n"
          ]
        },
        {
          "output_type": "stream",
          "name": "stderr",
          "text": [
            "Epoch 7/10: 100%|██████████| 937/937 [05:30<00:00,  2.83it/s]\n"
          ]
        },
        {
          "output_type": "stream",
          "name": "stdout",
          "text": [
            "Epoch 7 Average Loss: 0.0214\n"
          ]
        },
        {
          "output_type": "stream",
          "name": "stderr",
          "text": [
            "\rEpoch 8/10:   0%|          | 0/937 [00:00<?, ?it/s]"
          ]
        },
        {
          "output_type": "stream",
          "name": "stdout",
          "text": [
            "Epoch [8/10] Step [0/937], Loss: 0.0145\n"
          ]
        },
        {
          "output_type": "stream",
          "name": "stderr",
          "text": [
            "Epoch 8/10:  11%|█         | 100/937 [00:37<05:13,  2.67it/s]"
          ]
        },
        {
          "output_type": "stream",
          "name": "stdout",
          "text": [
            "Epoch [8/10] Step [100/937], Loss: 0.0169\n"
          ]
        },
        {
          "output_type": "stream",
          "name": "stderr",
          "text": [
            "Epoch 8/10:  21%|██▏       | 200/937 [01:15<04:35,  2.68it/s]"
          ]
        },
        {
          "output_type": "stream",
          "name": "stdout",
          "text": [
            "Epoch [8/10] Step [200/937], Loss: 0.0226\n"
          ]
        },
        {
          "output_type": "stream",
          "name": "stderr",
          "text": [
            "Epoch 8/10:  32%|███▏      | 300/937 [01:52<03:59,  2.66it/s]"
          ]
        },
        {
          "output_type": "stream",
          "name": "stdout",
          "text": [
            "Epoch [8/10] Step [300/937], Loss: 0.0256\n"
          ]
        },
        {
          "output_type": "stream",
          "name": "stderr",
          "text": [
            "Epoch 8/10:  43%|████▎     | 400/937 [02:30<03:17,  2.72it/s]"
          ]
        },
        {
          "output_type": "stream",
          "name": "stdout",
          "text": [
            "Epoch [8/10] Step [400/937], Loss: 0.0200\n"
          ]
        },
        {
          "output_type": "stream",
          "name": "stderr",
          "text": [
            "Epoch 8/10:  53%|█████▎    | 500/937 [03:07<02:45,  2.63it/s]"
          ]
        },
        {
          "output_type": "stream",
          "name": "stdout",
          "text": [
            "Epoch [8/10] Step [500/937], Loss: 0.0249\n"
          ]
        },
        {
          "output_type": "stream",
          "name": "stderr",
          "text": [
            "Epoch 8/10:  64%|██████▍   | 600/937 [03:44<02:04,  2.71it/s]"
          ]
        },
        {
          "output_type": "stream",
          "name": "stdout",
          "text": [
            "Epoch [8/10] Step [600/937], Loss: 0.0207\n"
          ]
        },
        {
          "output_type": "stream",
          "name": "stderr",
          "text": [
            "Epoch 8/10:  75%|███████▍  | 700/937 [04:20<01:28,  2.67it/s]"
          ]
        },
        {
          "output_type": "stream",
          "name": "stdout",
          "text": [
            "Epoch [8/10] Step [700/937], Loss: 0.0161\n"
          ]
        },
        {
          "output_type": "stream",
          "name": "stderr",
          "text": [
            "Epoch 8/10:  85%|████████▌ | 800/937 [04:56<00:47,  2.88it/s]"
          ]
        },
        {
          "output_type": "stream",
          "name": "stdout",
          "text": [
            "Epoch [8/10] Step [800/937], Loss: 0.0239\n"
          ]
        },
        {
          "output_type": "stream",
          "name": "stderr",
          "text": [
            "Epoch 8/10:  96%|█████████▌| 900/937 [05:32<00:13,  2.78it/s]"
          ]
        },
        {
          "output_type": "stream",
          "name": "stdout",
          "text": [
            "Epoch [8/10] Step [900/937], Loss: 0.0202\n"
          ]
        },
        {
          "output_type": "stream",
          "name": "stderr",
          "text": [
            "Epoch 8/10: 100%|██████████| 937/937 [05:45<00:00,  2.71it/s]\n"
          ]
        },
        {
          "output_type": "stream",
          "name": "stdout",
          "text": [
            "Epoch 8 Average Loss: 0.0202\n"
          ]
        },
        {
          "output_type": "stream",
          "name": "stderr",
          "text": [
            "\rEpoch 9/10:   0%|          | 0/937 [00:00<?, ?it/s]"
          ]
        },
        {
          "output_type": "stream",
          "name": "stdout",
          "text": [
            "Epoch [9/10] Step [0/937], Loss: 0.0220\n"
          ]
        },
        {
          "output_type": "stream",
          "name": "stderr",
          "text": [
            "Epoch 9/10:  11%|█         | 100/937 [00:36<04:59,  2.79it/s]"
          ]
        },
        {
          "output_type": "stream",
          "name": "stdout",
          "text": [
            "Epoch [9/10] Step [100/937], Loss: 0.0186\n"
          ]
        },
        {
          "output_type": "stream",
          "name": "stderr",
          "text": [
            "Epoch 9/10:  21%|██▏       | 200/937 [01:13<04:29,  2.74it/s]"
          ]
        },
        {
          "output_type": "stream",
          "name": "stdout",
          "text": [
            "Epoch [9/10] Step [200/937], Loss: 0.0146\n"
          ]
        },
        {
          "output_type": "stream",
          "name": "stderr",
          "text": [
            "Epoch 9/10:  32%|███▏      | 300/937 [01:50<03:55,  2.70it/s]"
          ]
        },
        {
          "output_type": "stream",
          "name": "stdout",
          "text": [
            "Epoch [9/10] Step [300/937], Loss: 0.0237\n"
          ]
        },
        {
          "output_type": "stream",
          "name": "stderr",
          "text": [
            "Epoch 9/10:  43%|████▎     | 400/937 [02:27<03:21,  2.67it/s]"
          ]
        },
        {
          "output_type": "stream",
          "name": "stdout",
          "text": [
            "Epoch [9/10] Step [400/937], Loss: 0.0195\n"
          ]
        },
        {
          "output_type": "stream",
          "name": "stderr",
          "text": [
            "Epoch 9/10:  53%|█████▎    | 500/937 [03:04<02:41,  2.71it/s]"
          ]
        },
        {
          "output_type": "stream",
          "name": "stdout",
          "text": [
            "Epoch [9/10] Step [500/937], Loss: 0.0161\n"
          ]
        },
        {
          "output_type": "stream",
          "name": "stderr",
          "text": [
            "Epoch 9/10:  64%|██████▍   | 600/937 [03:41<01:59,  2.81it/s]"
          ]
        },
        {
          "output_type": "stream",
          "name": "stdout",
          "text": [
            "Epoch [9/10] Step [600/937], Loss: 0.0182\n"
          ]
        },
        {
          "output_type": "stream",
          "name": "stderr",
          "text": [
            "Epoch 9/10:  75%|███████▍  | 700/937 [04:17<01:25,  2.77it/s]"
          ]
        },
        {
          "output_type": "stream",
          "name": "stdout",
          "text": [
            "Epoch [9/10] Step [700/937], Loss: 0.0194\n"
          ]
        },
        {
          "output_type": "stream",
          "name": "stderr",
          "text": [
            "Epoch 9/10:  85%|████████▌ | 800/937 [04:53<00:50,  2.73it/s]"
          ]
        },
        {
          "output_type": "stream",
          "name": "stdout",
          "text": [
            "Epoch [9/10] Step [800/937], Loss: 0.0244\n"
          ]
        },
        {
          "output_type": "stream",
          "name": "stderr",
          "text": [
            "Epoch 9/10:  96%|█████████▌| 900/937 [05:29<00:13,  2.75it/s]"
          ]
        },
        {
          "output_type": "stream",
          "name": "stdout",
          "text": [
            "Epoch [9/10] Step [900/937], Loss: 0.0161\n"
          ]
        },
        {
          "output_type": "stream",
          "name": "stderr",
          "text": [
            "Epoch 9/10: 100%|██████████| 937/937 [05:43<00:00,  2.73it/s]\n"
          ]
        },
        {
          "output_type": "stream",
          "name": "stdout",
          "text": [
            "Epoch 9 Average Loss: 0.0199\n"
          ]
        },
        {
          "output_type": "stream",
          "name": "stderr",
          "text": [
            "\rEpoch 10/10:   0%|          | 0/937 [00:00<?, ?it/s]"
          ]
        },
        {
          "output_type": "stream",
          "name": "stdout",
          "text": [
            "Epoch [10/10] Step [0/937], Loss: 0.0141\n"
          ]
        },
        {
          "output_type": "stream",
          "name": "stderr",
          "text": [
            "Epoch 10/10:  11%|█         | 100/937 [00:36<05:08,  2.71it/s]"
          ]
        },
        {
          "output_type": "stream",
          "name": "stdout",
          "text": [
            "Epoch [10/10] Step [100/937], Loss: 0.0230\n"
          ]
        },
        {
          "output_type": "stream",
          "name": "stderr",
          "text": [
            "Epoch 10/10:  21%|██▏       | 200/937 [01:12<04:24,  2.78it/s]"
          ]
        },
        {
          "output_type": "stream",
          "name": "stdout",
          "text": [
            "Epoch [10/10] Step [200/937], Loss: 0.0216\n"
          ]
        },
        {
          "output_type": "stream",
          "name": "stderr",
          "text": [
            "Epoch 10/10:  32%|███▏      | 300/937 [01:49<03:48,  2.79it/s]"
          ]
        },
        {
          "output_type": "stream",
          "name": "stdout",
          "text": [
            "Epoch [10/10] Step [300/937], Loss: 0.0196\n"
          ]
        },
        {
          "output_type": "stream",
          "name": "stderr",
          "text": [
            "Epoch 10/10:  43%|████▎     | 400/937 [02:24<03:09,  2.83it/s]"
          ]
        },
        {
          "output_type": "stream",
          "name": "stdout",
          "text": [
            "Epoch [10/10] Step [400/937], Loss: 0.0231\n"
          ]
        },
        {
          "output_type": "stream",
          "name": "stderr",
          "text": [
            "Epoch 10/10:  53%|█████▎    | 500/937 [03:00<02:35,  2.81it/s]"
          ]
        },
        {
          "output_type": "stream",
          "name": "stdout",
          "text": [
            "Epoch [10/10] Step [500/937], Loss: 0.0233\n"
          ]
        },
        {
          "output_type": "stream",
          "name": "stderr",
          "text": [
            "Epoch 10/10:  64%|██████▍   | 600/937 [03:37<02:01,  2.78it/s]"
          ]
        },
        {
          "output_type": "stream",
          "name": "stdout",
          "text": [
            "Epoch [10/10] Step [600/937], Loss: 0.0172\n"
          ]
        },
        {
          "output_type": "stream",
          "name": "stderr",
          "text": [
            "Epoch 10/10:  75%|███████▍  | 700/937 [04:13<01:23,  2.82it/s]"
          ]
        },
        {
          "output_type": "stream",
          "name": "stdout",
          "text": [
            "Epoch [10/10] Step [700/937], Loss: 0.0196\n"
          ]
        },
        {
          "output_type": "stream",
          "name": "stderr",
          "text": [
            "Epoch 10/10:  85%|████████▌ | 800/937 [04:49<00:50,  2.71it/s]"
          ]
        },
        {
          "output_type": "stream",
          "name": "stdout",
          "text": [
            "Epoch [10/10] Step [800/937], Loss: 0.0184\n"
          ]
        },
        {
          "output_type": "stream",
          "name": "stderr",
          "text": [
            "Epoch 10/10:  96%|█████████▌| 900/937 [05:25<00:13,  2.78it/s]"
          ]
        },
        {
          "output_type": "stream",
          "name": "stdout",
          "text": [
            "Epoch [10/10] Step [900/937], Loss: 0.0231\n"
          ]
        },
        {
          "output_type": "stream",
          "name": "stderr",
          "text": [
            "Epoch 10/10: 100%|██████████| 937/937 [05:38<00:00,  2.77it/s]"
          ]
        },
        {
          "output_type": "stream",
          "name": "stdout",
          "text": [
            "Epoch 10 Average Loss: 0.0195\n"
          ]
        },
        {
          "output_type": "stream",
          "name": "stderr",
          "text": [
            "\n"
          ]
        }
      ]
    },
    {
      "cell_type": "code",
      "source": [
        "# 采样生成图像\n",
        "\n",
        "#when CIFAR use model, when MNIST use _2\n",
        "generated_images = sample_diffusion_model(diffusion, n_samples, device,10)# for CIFAR-10\n",
        "\n",
        "# 将生成的图像保存\n",
        "output_dir = \"outputs\"\n",
        "os.makedirs(output_dir, exist_ok=True)\n",
        "for idx in range(n_samples):\n",
        "    sample = generated_images[idx]\n",
        "    save_image(sample * 0.5 + 0.5, os.path.join(output_dir, f'sample_{idx}.png'))  # 将[-1,1]映射回[0,1]\n",
        "print(f\"Saved {n_samples} samples to '{output_dir}'.\")\n",
        "# 可视化 16 个样本，按 4x4 网格显示\n",
        "n_rows, n_cols = 4, 4\n",
        "fig, axes = plt.subplots(n_rows, n_cols, figsize=(8, 8))\n",
        "fig.suptitle(\"Generated Samples\", fontsize=16)\n",
        "\n",
        "# 绘制每个样本 CIFAR-10\n",
        "for idx, ax in enumerate(axes.flatten()):\n",
        "    if idx < n_samples:\n",
        "        img = generated_images[idx].permute(1, 2, 0).cpu().numpy()  # (C, H, W) -> (H, W, C)\n",
        "        img = (img + 1) / 2  # 将 [-1, 1] 映射回 [0, 1]\n",
        "        ax.imshow(img)\n",
        "        ax.axis('off')\n",
        "    else:\n",
        "        ax.axis('off')  # 多余的网格不显示\n",
        "\n",
        "plt.tight_layout()\n",
        "plt.show()\n"
      ],
      "metadata": {
        "colab": {
          "base_uri": "https://localhost:8080/",
          "height": 977
        },
        "id": "OgfbekqeA989",
        "outputId": "77f62844-8031-40bb-b076-db70997ec38a"
      },
      "execution_count": null,
      "outputs": [
        {
          "output_type": "stream",
          "name": "stderr",
          "text": [
            "Sampling: 1000it [04:42,  3.54it/s]\n"
          ]
        },
        {
          "output_type": "display_data",
          "data": {
            "text/plain": [
              "<Figure size 2000x200 with 10 Axes>"
            ],
            "image/png": "[encoded data removed]"
          },
          "metadata": {}
        },
        {
          "output_type": "stream",
          "name": "stdout",
          "text": [
            "Saved 16 samples to 'outputs'.\n"
          ]
        },
        {
          "output_type": "display_data",
          "data": {
            "text/plain": [
              "<Figure size 800x800 with 16 Axes>"
            ],
            "image/png": "[encoded data removed]"
          },
          "metadata": {}
        }
      ]
    },
    {
      "cell_type": "code",
      "source": [
        "generated_images = sample_diffusion_model_2(diffusion, n_samples, device,10)# FOR MNIST\n",
        "\n",
        "# 将生成的图像保存\n",
        "output_dir = \"outputs\"\n",
        "os.makedirs(output_dir, exist_ok=True)\n",
        "for idx in range(n_samples):\n",
        "    sample = generated_images[idx]\n",
        "    save_image(sample * 0.5 + 0.5, os.path.join(output_dir, f'sample_{idx}.png'))  # 将[-1,1]映射回[0,1]\n",
        "print(f\"Saved {n_samples} samples to '{output_dir}'.\")\n",
        "# 可视化 16 个样本，按 4x4 网格显示\n",
        "n_rows, n_cols = 4, 4\n",
        "fig, axes = plt.subplots(n_rows, n_cols, figsize=(8, 8))\n",
        "fig.suptitle(\"Generated Samples\", fontsize=16)\n",
        "# 绘制样本，MNIST\n",
        "for idx, ax in enumerate(axes.flatten()):\n",
        "    if idx < n_samples:\n",
        "        img = generated_images[idx].squeeze().cpu().numpy()  # 去掉 (1, H, W) 的通道维度\n",
        "        img = (img + 1) / 2  # 将 [-1, 1] 映射回 [0, 1]\n",
        "        ax.imshow(img, cmap='gray')  # 确保灰度图显示\n",
        "        ax.axis('off')\n",
        "    else:\n",
        "        ax.axis('off')  # 多余的网格不显示\n",
        "\n",
        "plt.tight_layout()\n",
        "plt.show()"
      ],
      "metadata": {
        "colab": {
          "base_uri": "https://localhost:8080/",
          "height": 977
        },
        "id": "lBmifCJizxbw",
        "outputId": "982446c8-b23b-43ae-cbd2-3a0a0551be7a"
      },
      "execution_count": null,
      "outputs": [
        {
          "output_type": "stream",
          "name": "stderr",
          "text": [
            "Sampling: 1000it [05:01,  3.32it/s]\n"
          ]
        },
        {
          "output_type": "display_data",
          "data": {
            "text/plain": [
              "<Figure size 2000x200 with 10 Axes>"
            ],
            "image/png": "[encoded data removed]"
          },
          "metadata": {}
        },
        {
          "output_type": "stream",
          "name": "stdout",
          "text": [
            "Saved 16 samples to 'outputs'.\n"
          ]
        },
        {
          "output_type": "display_data",
          "data": {
            "text/plain": [
              "<Figure size 800x800 with 16 Axes>"
            ],
            "image/png": "[encoded data removed]"
          },
          "metadata": {}
        }
      ]
    }
  ]
}